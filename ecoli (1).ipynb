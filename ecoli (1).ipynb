{
 "cells": [
  {
   "cell_type": "code",
   "execution_count": 128,
   "id": "738e7565",
   "metadata": {},
   "outputs": [],
   "source": [
    "#Importing the packages \n",
    "import numpy as np\n",
    "import pandas as pd\n",
    "from sklearn.model_selection import train_test_split\n",
    "import matplotlib.pyplot as plt\n",
    "from sklearn.preprocessing import LabelEncoder\n",
    "from sklearn.tree import DecisionTreeClassifier\n",
    "from sklearn.ensemble import RandomForestClassifier\n",
    "from sklearn import metrics\n",
    "from sklearn import preprocessing"
   ]
  },
  {
   "cell_type": "code",
   "execution_count": 129,
   "id": "6febd5b9",
   "metadata": {},
   "outputs": [],
   "source": [
    "#Loading the dataset\n",
    "data = pd.read_fwf(\"ecoli.data\")\n",
    "column_names = [\"squence_name\",\"mcg\",\"gvh\",\"lip\",\"chg\",\"aac\",\"alm1\",\"alm2\",\"site\"]\n",
    "data.columns = column_names"
   ]
  },
  {
   "cell_type": "code",
   "execution_count": 130,
   "id": "7bbe3669",
   "metadata": {},
   "outputs": [
    {
     "data": {
      "text/plain": [
       "squence_name    0\n",
       "mcg             0\n",
       "gvh             0\n",
       "lip             0\n",
       "chg             0\n",
       "aac             0\n",
       "alm1            0\n",
       "alm2            0\n",
       "site            0\n",
       "dtype: int64"
      ]
     },
     "execution_count": 130,
     "metadata": {},
     "output_type": "execute_result"
    }
   ],
   "source": [
    "#Checking whether the data has null values for the purposes of data cleaning\n",
    "data.isnull().sum()"
   ]
  },
  {
   "cell_type": "code",
   "execution_count": 131,
   "id": "d37337da",
   "metadata": {},
   "outputs": [
    {
     "data": {
      "text/plain": [
       "(335, 9)"
      ]
     },
     "execution_count": 131,
     "metadata": {},
     "output_type": "execute_result"
    }
   ],
   "source": [
    "data.shape"
   ]
  },
  {
   "cell_type": "code",
   "execution_count": 132,
   "id": "90bc76ea",
   "metadata": {},
   "outputs": [
    {
     "data": {
      "text/html": [
       "<div>\n",
       "<style scoped>\n",
       "    .dataframe tbody tr th:only-of-type {\n",
       "        vertical-align: middle;\n",
       "    }\n",
       "\n",
       "    .dataframe tbody tr th {\n",
       "        vertical-align: top;\n",
       "    }\n",
       "\n",
       "    .dataframe thead th {\n",
       "        text-align: right;\n",
       "    }\n",
       "</style>\n",
       "<table border=\"1\" class=\"dataframe\">\n",
       "  <thead>\n",
       "    <tr style=\"text-align: right;\">\n",
       "      <th></th>\n",
       "      <th>mcg</th>\n",
       "      <th>gvh</th>\n",
       "      <th>lip</th>\n",
       "      <th>chg</th>\n",
       "      <th>aac</th>\n",
       "      <th>alm1</th>\n",
       "      <th>alm2</th>\n",
       "    </tr>\n",
       "  </thead>\n",
       "  <tbody>\n",
       "    <tr>\n",
       "      <th>count</th>\n",
       "      <td>335.000000</td>\n",
       "      <td>335.000000</td>\n",
       "      <td>335.000000</td>\n",
       "      <td>335.000000</td>\n",
       "      <td>335.000000</td>\n",
       "      <td>335.000000</td>\n",
       "      <td>335.000000</td>\n",
       "    </tr>\n",
       "    <tr>\n",
       "      <th>mean</th>\n",
       "      <td>0.500090</td>\n",
       "      <td>0.500627</td>\n",
       "      <td>0.495522</td>\n",
       "      <td>0.501493</td>\n",
       "      <td>0.499851</td>\n",
       "      <td>0.500955</td>\n",
       "      <td>0.500179</td>\n",
       "    </tr>\n",
       "    <tr>\n",
       "      <th>std</th>\n",
       "      <td>0.194924</td>\n",
       "      <td>0.147932</td>\n",
       "      <td>0.088624</td>\n",
       "      <td>0.027318</td>\n",
       "      <td>0.122515</td>\n",
       "      <td>0.215603</td>\n",
       "      <td>0.209563</td>\n",
       "    </tr>\n",
       "    <tr>\n",
       "      <th>min</th>\n",
       "      <td>0.000000</td>\n",
       "      <td>0.160000</td>\n",
       "      <td>0.480000</td>\n",
       "      <td>0.500000</td>\n",
       "      <td>0.000000</td>\n",
       "      <td>0.030000</td>\n",
       "      <td>0.000000</td>\n",
       "    </tr>\n",
       "    <tr>\n",
       "      <th>25%</th>\n",
       "      <td>0.340000</td>\n",
       "      <td>0.400000</td>\n",
       "      <td>0.480000</td>\n",
       "      <td>0.500000</td>\n",
       "      <td>0.420000</td>\n",
       "      <td>0.330000</td>\n",
       "      <td>0.350000</td>\n",
       "    </tr>\n",
       "    <tr>\n",
       "      <th>50%</th>\n",
       "      <td>0.500000</td>\n",
       "      <td>0.470000</td>\n",
       "      <td>0.480000</td>\n",
       "      <td>0.500000</td>\n",
       "      <td>0.490000</td>\n",
       "      <td>0.460000</td>\n",
       "      <td>0.430000</td>\n",
       "    </tr>\n",
       "    <tr>\n",
       "      <th>75%</th>\n",
       "      <td>0.665000</td>\n",
       "      <td>0.570000</td>\n",
       "      <td>0.480000</td>\n",
       "      <td>0.500000</td>\n",
       "      <td>0.570000</td>\n",
       "      <td>0.710000</td>\n",
       "      <td>0.710000</td>\n",
       "    </tr>\n",
       "    <tr>\n",
       "      <th>max</th>\n",
       "      <td>0.890000</td>\n",
       "      <td>1.000000</td>\n",
       "      <td>1.000000</td>\n",
       "      <td>1.000000</td>\n",
       "      <td>0.880000</td>\n",
       "      <td>1.000000</td>\n",
       "      <td>0.990000</td>\n",
       "    </tr>\n",
       "  </tbody>\n",
       "</table>\n",
       "</div>"
      ],
      "text/plain": [
       "              mcg         gvh         lip         chg         aac        alm1  \\\n",
       "count  335.000000  335.000000  335.000000  335.000000  335.000000  335.000000   \n",
       "mean     0.500090    0.500627    0.495522    0.501493    0.499851    0.500955   \n",
       "std      0.194924    0.147932    0.088624    0.027318    0.122515    0.215603   \n",
       "min      0.000000    0.160000    0.480000    0.500000    0.000000    0.030000   \n",
       "25%      0.340000    0.400000    0.480000    0.500000    0.420000    0.330000   \n",
       "50%      0.500000    0.470000    0.480000    0.500000    0.490000    0.460000   \n",
       "75%      0.665000    0.570000    0.480000    0.500000    0.570000    0.710000   \n",
       "max      0.890000    1.000000    1.000000    1.000000    0.880000    1.000000   \n",
       "\n",
       "             alm2  \n",
       "count  335.000000  \n",
       "mean     0.500179  \n",
       "std      0.209563  \n",
       "min      0.000000  \n",
       "25%      0.350000  \n",
       "50%      0.430000  \n",
       "75%      0.710000  \n",
       "max      0.990000  "
      ]
     },
     "execution_count": 132,
     "metadata": {},
     "output_type": "execute_result"
    }
   ],
   "source": [
    "data.describe()"
   ]
  },
  {
   "cell_type": "code",
   "execution_count": 133,
   "id": "4acfd154",
   "metadata": {},
   "outputs": [],
   "source": [
    "target = data.values[:,-1]"
   ]
  },
  {
   "cell_type": "code",
   "execution_count": 134,
   "id": "1dc5ba45",
   "metadata": {},
   "outputs": [
    {
     "data": {
      "text/plain": [
       "cp    142\n",
       "im     77\n",
       "pp     52\n",
       "mU     35\n",
       "om     20\n",
       "mL      7\n",
       "mS      2\n",
       "Name: site, dtype: int64"
      ]
     },
     "execution_count": 134,
     "metadata": {},
     "output_type": "execute_result"
    }
   ],
   "source": [
    "data.site.value_counts()"
   ]
  },
  {
   "cell_type": "code",
   "execution_count": 135,
   "id": "e66e199e",
   "metadata": {},
   "outputs": [],
   "source": [
    "#Cleaning dataset for the machine learning model\n",
    "data.drop(['squence_name'], axis=1, inplace=True)\n",
    "data = data.values\n",
    "X, y = data[:,:-1], data[:,-1]\n",
    "y = LabelEncoder().fit_transform(y)"
   ]
  },
  {
   "cell_type": "code",
   "execution_count": 136,
   "id": "abceb544",
   "metadata": {},
   "outputs": [],
   "source": [
    "#Splitting the data\n",
    "X_train, X_test, y_train, y_test = train_test_split(X, y, test_size=0.3)"
   ]
  },
  {
   "cell_type": "code",
   "execution_count": 137,
   "id": "9491f3b5",
   "metadata": {},
   "outputs": [],
   "source": [
    "# Initiating the decision tree \n",
    "decision_tree_model = DecisionTreeClassifier(max_depth=6, random_state=1)\n",
    "random_forest_Model = RandomForestClassifier(n_estimators=100)"
   ]
  },
  {
   "cell_type": "code",
   "execution_count": 138,
   "id": "f33bc8e5",
   "metadata": {},
   "outputs": [
    {
     "data": {
      "text/plain": [
       "DecisionTreeClassifier(max_depth=6, random_state=1)"
      ]
     },
     "execution_count": 138,
     "metadata": {},
     "output_type": "execute_result"
    }
   ],
   "source": [
    "decision_tree_model.fit(X_train,y_train)"
   ]
  },
  {
   "cell_type": "code",
   "execution_count": 139,
   "id": "71c9fdfd",
   "metadata": {},
   "outputs": [
    {
     "data": {
      "text/plain": [
       "RandomForestClassifier()"
      ]
     },
     "execution_count": 139,
     "metadata": {},
     "output_type": "execute_result"
    }
   ],
   "source": [
    "random_forest_Model.fit(X_train, y_train)"
   ]
  },
  {
   "cell_type": "code",
   "execution_count": 140,
   "id": "08e29799",
   "metadata": {},
   "outputs": [],
   "source": [
    "random_forest_y_pred = random_forest_Model.predict(X_test)\n",
    "decision_tree_y_pred = decision_tree_model.predict(X_test)"
   ]
  },
  {
   "cell_type": "code",
   "execution_count": 141,
   "id": "d1ad6760",
   "metadata": {},
   "outputs": [
    {
     "name": "stdout",
     "output_type": "stream",
     "text": [
      "The random forest classification model accuracy: 0.8910891089108911\n",
      "The decision trees classification model accuracy: 0.7722772277227723\n"
     ]
    }
   ],
   "source": [
    "#Comparing the accuracy of the decision tree and random forest in classification\n",
    "print(f\"The random forest classification model accuracy: {metrics.accuracy_score(y_test, random_forest_y_pred)}\")\n",
    "print(f\"The decision trees classification model accuracy: {metrics.accuracy_score(y_test, decision_tree_y_pred)}\")"
   ]
  },
  {
   "cell_type": "code",
   "execution_count": 160,
   "id": "48674bb1",
   "metadata": {},
   "outputs": [],
   "source": [
    "random_performance = []\n",
    "decision_performance = []\n",
    "for i in range(len(y_pred)):\n",
    "    if y_pred[i] == random_forest_y_pred[i]:\n",
    "        if random_performance:\n",
    "            random_performance.append(random_performance[-1]+1)\n",
    "        else:\n",
    "            random_performance.append(1)\n",
    "    else:\n",
    "        if random_performance:\n",
    "            random_performance.append(random_performance[-1])\n",
    "        else:\n",
    "            random_performance.append(0)\n",
    "    if y_pred[i] == decision_tree_y_pred[i]:\n",
    "        if decision_performance:\n",
    "            decision_performance.append(decision_performance[-1]+1)\n",
    "        else:\n",
    "            decision_performance.append(1)\n",
    "    else:\n",
    "        if decision_performance:\n",
    "            decision_performance.append(decision_performance[-1])\n",
    "        else:\n",
    "            decision_performance.append(0)"
   ]
  },
  {
   "cell_type": "code",
   "execution_count": 163,
   "id": "862e2521",
   "metadata": {},
   "outputs": [
    {
     "data": {
      "image/png": "[encoded data removed]",
      "text/plain": [
       "<Figure size 540x252 with 1 Axes>"
      ]
     },
     "metadata": {
      "needs_background": "light"
     },
     "output_type": "display_data"
    }
   ],
   "source": [
    "from matplotlib import pyplot as plt\n",
    "plt.rcParams[\"figure.figsize\"] = [7.50, 3.50]\n",
    "plt.rcParams[\"figure.autolayout\"] = True\n",
    "line1, = plt.plot(decision_performance, label=\"Decision Tree Performance\")\n",
    "line2, = plt.plot(random_performance, label=\"Ramdon Forest Performance\")\n",
    "leg = plt.legend(loc='upper center')\n",
    "plt.show()"
   ]
  },
  {
   "cell_type": "code",
   "execution_count": 150,
   "id": "1d8e263d",
   "metadata": {},
   "outputs": [
    {
     "data": {
      "text/plain": [
       "33"
      ]
     },
     "execution_count": 150,
     "metadata": {},
     "output_type": "execute_result"
    }
   ],
   "source": [
    "np.sum(random_performance)"
   ]
  },
  {
   "cell_type": "code",
   "execution_count": null,
   "id": "79a59756",
   "metadata": {},
   "outputs": [],
   "source": []
  }
 ],
 "metadata": {
  "kernelspec": {
   "display_name": "Python 3.10.4 64-bit",
   "language": "python",
   "name": "python3"
  },
  "language_info": {
   "codemirror_mode": {
    "name": "ipython",
    "version": 3
   },
   "file_extension": ".py",
   "mimetype": "text/x-python",
   "name": "python",
   "nbconvert_exporter": "python",
   "pygments_lexer": "ipython3",
   "version": "3.10.4"
  },
  "vscode": {
   "interpreter": {
    "hash": "369f2c481f4da34e4445cda3fffd2e751bd1c4d706f27375911949ba6bb62e1c"
   }
  }
 },
 "nbformat": 4,
 "nbformat_minor": 5
}
